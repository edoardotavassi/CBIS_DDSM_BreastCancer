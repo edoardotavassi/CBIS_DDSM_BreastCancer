{
 "cells": [
  {
   "cell_type": "code",
   "execution_count": 77,
   "metadata": {},
   "outputs": [],
   "source": [
    "import torch\n",
    "import wandb\n",
    "#!pip install wandb\n",
    "import torch.nn as nn\n",
    "import torch.optim as optim\n",
    "import numpy as np\n",
    "import matplotlib.pyplot as plt\n",
    "import seaborn as sns\n",
    "import pandas as pd\n",
    "from torch.utils.data import DataLoader, Dataset, random_split\n",
    "import os"
   ]
  },
  {
   "cell_type": "code",
   "execution_count": 78,
   "metadata": {},
   "outputs": [],
   "source": [
    "RANDOM_SEED = 42"
   ]
  },
  {
   "cell_type": "code",
   "execution_count": 79,
   "metadata": {},
   "outputs": [],
   "source": [
    "def dataset_splitting(dataset: Dataset, train_fraction, val_fraction, test_fraction):\n",
    "    \"\"\"Split the dataset into training, validation, and test sets.\n",
    "    Input:\n",
    "    - dataset: the dataset to split\n",
    "    - train_fraction: the fraction of the dataset to use for training\n",
    "    - val_fraction: the fraction of the dataset to use for validation\n",
    "    - test_fraction: the fraction of the dataset to use for testing\n",
    "    Output:\n",
    "    - train_set (torch.utils.data.Subset): the training set\n",
    "    - val_set (torch.utils.data.Subset): the validation set\n",
    "    - test_set (torch.utils.data.Subset): the test set\"\"\"\n",
    "        \n",
    "    # Define the sizes of the training, validation, and test sets\n",
    "    num_samples = len(dataset)\n",
    "    train_size = int(train_fraction * num_samples)\n",
    "    val_size = int(val_fraction * num_samples)\n",
    "    # Check if the test fraction is correct\n",
    "    if (train_fraction + val_fraction + test_fraction != 1):\n",
    "        raise ValueError(\"The sum of the training, validation, and test fractions must be equal to 1.\")\n",
    "    test_size = num_samples - train_size - val_size\n",
    "\n",
    "    generator = torch.Generator().manual_seed(RANDOM_SEED)\n",
    "    \n",
    "    # Split the dataset into training, validation, and test sets\n",
    "    train_set, val_set, test_set = random_split(dataset, [train_size, val_size, test_size], generator=generator)\n",
    "\n",
    "    # The obtained objects are of type torch.utils.data.Subset\n",
    "    return train_set, val_set, test_set\n",
    "\n",
    "\n",
    "class CBIS_DDSM_Dataset(Dataset):\n",
    "\n",
    "    def __init__(self, csv_file, root_dir, transform=None):\n",
    "        \"\"\"\n",
    "        Arguments:\n",
    "            csv_file (string): Path to the csv file with annotations.\n",
    "            root_dir (string): Directory with all the images.\n",
    "            transform (callable, optional): Optional transform to be applied\n",
    "                on a sample.\n",
    "        \"\"\"\n",
    "        self.frame = pd.read_csv(csv_file)\n",
    "        self.root_dir = root_dir\n",
    "        self.transform = transform\n",
    "\n",
    "        # remove the benign without callback cases\n",
    "        self.frame = self.frame[self.frame[\"pathology\"] != \"BENIGN_WITHOUT_CALLBACK\"]\n",
    "        self.frame = self.frame.reset_index(drop=True)\n",
    "        # 1 for malignant, 0 for benign\n",
    "        self.frame[\"pathology_id\"] = self.frame[\"pathology\"].map({\"BENIGN\": 0, \"MALIGNANT\": 1})\n",
    "\n",
    "        # We want to obtain a split of 60% training, 20% validation, and 20% testing\n",
    "        self.train_set, self.val_set, self.test_set = dataset_splitting(self, 0.6, 0.2, 0.2)\n",
    "\n",
    "    def __len__(self):\n",
    "        return len(self.frame)\n",
    "\n",
    "    def __getitem__(self, idx):\n",
    "        print(\"called with idx\", idx)   \n",
    "        if torch.is_tensor(idx):\n",
    "            idx = idx.tolist()\n",
    "\n",
    "        img_name = os.path.join(self.root_dir,\n",
    "                                self.frame.iloc(idx)[\"image_path\"])\n",
    "        image = plt.imread(img_name)\n",
    "        label = self.frame.iloc(idx)[\"pathology_id\"]\n",
    "        sample = {'image': image, 'label': label}\n",
    "\n",
    "        if self.transform:\n",
    "            sample = self.transform(sample)\n",
    "\n",
    "        return sample\n",
    "    \n",
    "    def get_loaders(self, batch_size, shuffle, drop_last, num_workers):\n",
    "        return {\"train\": DataLoader(self.train_set, batch_size=batch_size, shuffle=shuffle, drop_last=drop_last, num_workers=num_workers),\n",
    "           \"val\": DataLoader(self.val_set, batch_size=batch_size, shuffle=False, drop_last=False, num_workers=num_workers),\n",
    "           \"test\": DataLoader(self.test_set, batch_size=batch_size, shuffle=False, drop_last=False, num_workers=num_workers)}\n",
    "    \n",
    "    def get_trainset(self):\n",
    "        \"\"\"Return the train set.\"\"\"\n",
    "        return self.train_set\n",
    "    \n",
    "\n",
    "    def get_valset(self):\n",
    "        \"\"\"Return the validation set.\"\"\"\n",
    "        return self.val_set\n",
    "    \n",
    "    def get_testset(self):\n",
    "        \"\"\"Return the test set.\"\"\"\n",
    "        return self.test_set\n",
    "    \n",
    "    def get_set_len(self):\n",
    "        \"\"\"Return the length of the train, val and test set.\"\"\"\n",
    "        return len(self.train_set), len(self.val_set), len(self.test_set)"
   ]
  },
  {
   "cell_type": "code",
   "execution_count": 80,
   "metadata": {},
   "outputs": [
    {
     "data": {
      "text/plain": [
       "(798, 266, 267)"
      ]
     },
     "execution_count": 80,
     "metadata": {},
     "output_type": "execute_result"
    }
   ],
   "source": [
    "dataset = CBIS_DDSM_Dataset(csv_file=\"../data/processed/calc_dicom.csv\", root_dir=\"../data/processed\", transform=None)\n",
    "\n",
    "dataset.__len__()\n",
    "\n",
    "train_set = dataset.get_trainset()\n",
    "val_set = dataset.get_valset()\n",
    "test_set = dataset.get_testset()\n",
    "\n",
    "lengths = dataset.get_set_len()\n",
    "lengths"
   ]
  },
  {
   "cell_type": "code",
   "execution_count": 81,
   "metadata": {},
   "outputs": [
    {
     "data": {
      "text/plain": [
       "subject_id      518\n",
       "image_path      129\n",
       "pathology         1\n",
       "pathology_id      1\n",
       "dtype: int64"
      ]
     },
     "execution_count": 81,
     "metadata": {},
     "output_type": "execute_result"
    }
   ],
   "source": [
    "dataset.frame.idxmax()"
   ]
  },
  {
   "cell_type": "code",
   "execution_count": 82,
   "metadata": {},
   "outputs": [],
   "source": [
    "loaders = dataset.get_loaders(batch_size=32, shuffle=True, drop_last=True, num_workers=0)"
   ]
  },
  {
   "cell_type": "code",
   "execution_count": 83,
   "metadata": {},
   "outputs": [
    {
     "name": "stdout",
     "output_type": "stream",
     "text": [
      "length of train loader <torch.utils.data.dataloader.DataLoader object at 0x763c6b961a60>\n",
      "[259, 318, 828, 1121, 113, 640, 476, 1247, 750, 764, 1324, 945, 795, 12, 1178, 143, 901, 534, 306, 725, 1173, 87, 911, 514, 1046, 654, 757, 36, 4, 1242, 1233, 511, 942, 374, 600, 1167, 1265, 595, 1209, 1217, 922, 1253, 864, 594, 110, 1272, 134, 1113, 887, 626, 884, 240, 1179, 1106, 114, 862, 1071, 713, 1022, 1151, 719, 801, 1135, 383, 762, 94, 42, 715, 774, 1312, 325, 1160, 1298, 24, 1269, 404, 359, 68, 693, 470, 1310, 772, 245, 1082, 492, 927, 1215, 1039, 819, 900, 379, 958, 1136, 490, 832, 1276, 1062, 1240, 463, 847, 473, 674, 963, 994, 213, 722, 561, 198, 947, 357, 72, 545, 493, 50, 837, 494, 496, 402, 630, 875, 125, 587, 445, 241, 1076, 308, 936, 899, 479, 290, 910, 799, 276, 701, 1050, 1007, 827, 261, 565, 699, 301, 1061, 218, 802, 1219, 759, 123, 197, 1148, 690, 777, 293, 161, 669, 148, 612, 40, 588, 497, 182, 385, 1321, 10, 1, 417, 955, 735, 1297, 41, 412, 252, 335, 1329, 814, 563, 176, 98, 102, 1225, 20, 211, 1093, 515, 1237, 992, 921, 441, 305, 1176, 1016, 1241, 160, 1236, 1019, 567, 1260, 1129, 952, 1285, 137, 414, 720, 1162, 37, 609, 181, 326, 1318, 744, 1057, 333, 281, 127, 1077, 577, 108, 1222, 683, 871, 657, 1031, 309, 733, 1170, 262, 6, 525, 352, 644, 705, 314, 682, 844, 986, 1204, 1246, 195, 650, 327, 44, 351, 977, 269, 121, 210, 950, 254, 1283, 15, 1295, 503, 731, 1000, 1033, 996, 150, 1305, 340, 126, 1245, 231, 1084, 358, 1263, 95, 124, 964, 53, 256, 1235, 8, 394, 154, 233, 43, 206, 905, 1134, 662, 768, 1306, 1300, 748, 1161, 968, 158, 1168, 1035, 288, 552, 822, 1229, 175, 638, 838, 1266, 1099, 471, 26, 378, 538, 217, 307, 652, 1186, 421, 59, 1036, 1153, 1184, 841, 377, 1020, 507, 985, 714, 384, 399, 873, 628, 92, 889, 592, 548, 1187, 940, 49, 190, 1034, 225, 1214, 1251, 350, 621, 105, 578, 1271, 571, 505, 366, 21, 236, 916, 868, 354, 931, 390, 1086, 170, 1119, 1087, 296, 738, 516, 747, 1193, 613, 33, 1293, 933, 1109, 74, 1078, 604, 1231, 641, 623, 528, 610, 1005, 128, 450, 56, 724, 1326, 1274, 167, 535, 212, 51, 220, 129, 466, 1191, 101, 1122, 845, 1177, 141, 332, 1110, 1201, 1145, 1114, 1282, 510, 397, 1226, 1315, 313, 625, 926, 194, 345, 915, 280, 1218, 658, 342, 1124, 667, 1130, 918, 527, 983, 243, 1202, 1264, 434, 1072, 661, 1070, 242, 461, 619, 583, 179, 582, 812, 347, 546, 988, 603, 202, 543, 938, 739, 800, 1029, 54, 55, 990, 442, 83, 608, 16, 1042, 804, 1278, 656, 508, 1328, 778, 34, 681, 485, 291, 934, 1102, 653, 480, 48, 573, 339, 960, 172, 737, 691, 1146, 367, 728, 1018, 214, 948, 998, 794, 967, 1054, 177, 227, 1044, 1248, 104, 320, 115, 1074, 365, 598, 721, 1249, 319, 1287, 425, 483, 1155, 829, 232, 477, 156, 207, 673, 1307, 495, 433, 163, 135, 193, 420, 368, 458, 1273, 155, 90, 373, 664, 581, 943, 1132, 415, 453, 17, 1059, 93, 689, 1159, 1267, 1268, 560, 247, 1190, 700, 730, 698, 132, 1172, 740, 188, 797, 1180, 311, 297, 1270, 761, 539, 789, 1138, 537, 173, 1120, 1123, 981, 235, 274, 375, 635, 818, 980, 1030, 482, 5, 1166, 1117, 107, 229, 1021, 924, 488, 866, 75, 601, 512, 749, 660, 248, 491, 1052, 1154, 708, 860, 199, 1239, 755, 1013, 147, 1258, 61, 464, 885, 178, 1185, 912, 1210, 1049, 1252, 767, 58, 648, 671, 486, 437, 834, 9, 835, 189, 1115, 813, 1279, 73, 842, 576, 1048, 1108, 278, 517, 513, 456, 369, 946, 1002, 106, 574, 520, 1089, 536, 363, 734, 509, 816, 793, 140, 1096, 273, 317, 1075, 1223, 341, 659, 849, 907, 830, 246, 223, 1111, 1211, 902, 655, 1058, 1011, 1319, 478, 355, 1010, 260, 815, 695, 803, 897, 723, 974, 780, 382, 153, 622, 1104, 679, 1175, 550, 77, 1208, 224, 1188, 852, 409, 1254, 152, 951, 1060, 554, 599, 888, 1194, 222, 348, 474, 203, 1316, 784, 783, 663, 856, 329, 808, 131, 1128, 541, 1314, 1259, 530, 770, 564, 966, 557, 746, 531, 438, 465, 157, 519, 1040, 303, 1045, 1320, 440, 84, 1085, 906, 959, 69, 277, 607, 605, 825, 1149, 88, 765, 953, 680, 614, 1262, 1212, 558, 763, 688, 1112, 1289, 183, 686, 839, 1038, 413, 1216, 100, 606, 145, 843, 1064, 39, 542, 521, 1308, 779, 484, 890, 1024, 184, 164, 820, 991, 499, 1069, 119, 159, 932, 677, 452, 237, 360, 954, 1027, 775, 898, 86, 1081, 848, 435, 620, 891, 1302, 1008, 502, 226, 675, 579, 930, 500, 1055, 200, 882, 344, 580, 526, 787, 524, 685, 151, 969, 572, 388]\n",
      "                             subject_id  \\\n",
      "259    Calc-Training_P_00339_LEFT_MLO_1   \n",
      "318    Calc-Training_P_00425_RIGHT_CC_1   \n",
      "828    Calc-Training_P_00291_LEFT_MLO_1   \n",
      "1121        Calc-Test_P_00353_LEFT_CC_2   \n",
      "113   Calc-Training_P_01569_RIGHT_MLO_1   \n",
      "...                                 ...   \n",
      "685        Calc-Test_P_01743_RIGHT_CC_1   \n",
      "151         Calc-Test_P_00497_LEFT_CC_1   \n",
      "969    Calc-Training_P_02133_LEFT_MLO_1   \n",
      "572    Calc-Training_P_00978_LEFT_MLO_1   \n",
      "388    Calc-Training_P_00993_RIGHT_CC_1   \n",
      "\n",
      "                                             image_path  pathology  \\\n",
      "259   CBIS-DDSM/jpeg/1.3.6.1.4.1.9590.100.1.2.143175...  MALIGNANT   \n",
      "318   CBIS-DDSM/jpeg/1.3.6.1.4.1.9590.100.1.2.182825...     BENIGN   \n",
      "828   CBIS-DDSM/jpeg/1.3.6.1.4.1.9590.100.1.2.243582...     BENIGN   \n",
      "1121  CBIS-DDSM/jpeg/1.3.6.1.4.1.9590.100.1.2.205190...  MALIGNANT   \n",
      "113   CBIS-DDSM/jpeg/1.3.6.1.4.1.9590.100.1.2.767281...     BENIGN   \n",
      "...                                                 ...        ...   \n",
      "685   CBIS-DDSM/jpeg/1.3.6.1.4.1.9590.100.1.2.120975...  MALIGNANT   \n",
      "151   CBIS-DDSM/jpeg/1.3.6.1.4.1.9590.100.1.2.214678...  MALIGNANT   \n",
      "969   CBIS-DDSM/jpeg/1.3.6.1.4.1.9590.100.1.2.292218...  MALIGNANT   \n",
      "572   CBIS-DDSM/jpeg/1.3.6.1.4.1.9590.100.1.2.323959...  MALIGNANT   \n",
      "388   CBIS-DDSM/jpeg/1.3.6.1.4.1.9590.100.1.2.144354...  MALIGNANT   \n",
      "\n",
      "      pathology_id  \n",
      "259              1  \n",
      "318              0  \n",
      "828              0  \n",
      "1121             1  \n",
      "113              0  \n",
      "...            ...  \n",
      "685              1  \n",
      "151              1  \n",
      "969              1  \n",
      "572              1  \n",
      "388              1  \n",
      "\n",
      "[798 rows x 4 columns]\n",
      "called with idx 1242\n"
     ]
    },
    {
     "ename": "ValueError",
     "evalue": "No axis named 1242 for object type DataFrame",
     "output_type": "error",
     "traceback": [
      "\u001b[0;31m---------------------------------------------------------------------------\u001b[0m",
      "\u001b[0;31mKeyError\u001b[0m                                  Traceback (most recent call last)",
      "\u001b[0;32m~/Scrivania/progetto_naml/CBIS_DDSM_BreastCancer/.venv/lib/python3.12/site-packages/pandas/core/generic.py\u001b[0m in \u001b[0;36m?\u001b[0;34m(cls, axis)\u001b[0m\n\u001b[1;32m    576\u001b[0m             \u001b[0;32mreturn\u001b[0m \u001b[0mcls\u001b[0m\u001b[0;34m.\u001b[0m\u001b[0m_AXIS_TO_AXIS_NUMBER\u001b[0m\u001b[0;34m[\u001b[0m\u001b[0maxis\u001b[0m\u001b[0;34m]\u001b[0m\u001b[0;34m\u001b[0m\u001b[0;34m\u001b[0m\u001b[0m\n\u001b[1;32m    577\u001b[0m         \u001b[0;32mexcept\u001b[0m \u001b[0mKeyError\u001b[0m\u001b[0;34m:\u001b[0m\u001b[0;34m\u001b[0m\u001b[0;34m\u001b[0m\u001b[0m\n\u001b[0;32m--> 578\u001b[0;31m             \u001b[0;32mraise\u001b[0m \u001b[0mValueError\u001b[0m\u001b[0;34m(\u001b[0m\u001b[0;34mf\"\u001b[0m\u001b[0;34mNo axis named \u001b[0m\u001b[0;34m{\u001b[0m\u001b[0maxis\u001b[0m\u001b[0;34m}\u001b[0m\u001b[0;34m for object type \u001b[0m\u001b[0;34m{\u001b[0m\u001b[0mcls\u001b[0m\u001b[0;34m.\u001b[0m\u001b[0m__name__\u001b[0m\u001b[0;34m}\u001b[0m\u001b[0;34m\"\u001b[0m\u001b[0;34m)\u001b[0m\u001b[0;34m\u001b[0m\u001b[0;34m\u001b[0m\u001b[0m\n\u001b[0m",
      "\u001b[0;31mKeyError\u001b[0m: 1242",
      "\nDuring handling of the above exception, another exception occurred:\n",
      "\u001b[0;31mValueError\u001b[0m                                Traceback (most recent call last)",
      "\u001b[0;32m/tmp/ipykernel_31547/2808880221.py\u001b[0m in \u001b[0;36m?\u001b[0;34m()\u001b[0m\n\u001b[1;32m      1\u001b[0m \u001b[0mprint\u001b[0m\u001b[0;34m(\u001b[0m\u001b[0;34m\"length of train loader\"\u001b[0m\u001b[0;34m,\u001b[0m \u001b[0mloaders\u001b[0m\u001b[0;34m[\u001b[0m\u001b[0;34m\"train\"\u001b[0m\u001b[0;34m]\u001b[0m\u001b[0;34m)\u001b[0m\u001b[0;34m\u001b[0m\u001b[0;34m\u001b[0m\u001b[0m\n\u001b[1;32m      2\u001b[0m \u001b[0mprint\u001b[0m\u001b[0;34m(\u001b[0m\u001b[0mtrain_set\u001b[0m\u001b[0;34m.\u001b[0m\u001b[0mindices\u001b[0m\u001b[0;34m)\u001b[0m\u001b[0;34m\u001b[0m\u001b[0;34m\u001b[0m\u001b[0m\n\u001b[1;32m      3\u001b[0m \u001b[0mprint\u001b[0m\u001b[0;34m(\u001b[0m\u001b[0mdataset\u001b[0m\u001b[0;34m.\u001b[0m\u001b[0mframe\u001b[0m\u001b[0;34m.\u001b[0m\u001b[0miloc\u001b[0m\u001b[0;34m[\u001b[0m\u001b[0mtrain_set\u001b[0m\u001b[0;34m.\u001b[0m\u001b[0mindices\u001b[0m\u001b[0;34m]\u001b[0m\u001b[0;34m)\u001b[0m\u001b[0;34m\u001b[0m\u001b[0;34m\u001b[0m\u001b[0m\n\u001b[0;32m----> 4\u001b[0;31m \u001b[0;32mfor\u001b[0m \u001b[0mdata\u001b[0m \u001b[0;32min\u001b[0m \u001b[0mloaders\u001b[0m\u001b[0;34m[\u001b[0m\u001b[0;34m\"train\"\u001b[0m\u001b[0;34m]\u001b[0m\u001b[0;34m:\u001b[0m\u001b[0;34m\u001b[0m\u001b[0;34m\u001b[0m\u001b[0m\n\u001b[0m\u001b[1;32m      5\u001b[0m     \u001b[0mimg\u001b[0m \u001b[0;34m=\u001b[0m \u001b[0mdata\u001b[0m\u001b[0;34m[\u001b[0m\u001b[0;34m\"image\"\u001b[0m\u001b[0;34m]\u001b[0m\u001b[0;34m\u001b[0m\u001b[0;34m\u001b[0m\u001b[0m\n\u001b[1;32m      6\u001b[0m     \u001b[0mlabel\u001b[0m \u001b[0;34m=\u001b[0m \u001b[0mdata\u001b[0m\u001b[0;34m[\u001b[0m\u001b[0;34m\"label\"\u001b[0m\u001b[0;34m]\u001b[0m\u001b[0;34m\u001b[0m\u001b[0;34m\u001b[0m\u001b[0m\n\u001b[1;32m      7\u001b[0m \u001b[0;34m\u001b[0m\u001b[0m\n",
      "\u001b[0;32m~/Scrivania/progetto_naml/CBIS_DDSM_BreastCancer/.venv/lib/python3.12/site-packages/torch/utils/data/dataloader.py\u001b[0m in \u001b[0;36m?\u001b[0;34m(self)\u001b[0m\n\u001b[1;32m    626\u001b[0m         \u001b[0;32mwith\u001b[0m \u001b[0mtorch\u001b[0m\u001b[0;34m.\u001b[0m\u001b[0mautograd\u001b[0m\u001b[0;34m.\u001b[0m\u001b[0mprofiler\u001b[0m\u001b[0;34m.\u001b[0m\u001b[0mrecord_function\u001b[0m\u001b[0;34m(\u001b[0m\u001b[0mself\u001b[0m\u001b[0;34m.\u001b[0m\u001b[0m_profile_name\u001b[0m\u001b[0;34m)\u001b[0m\u001b[0;34m:\u001b[0m\u001b[0;34m\u001b[0m\u001b[0;34m\u001b[0m\u001b[0m\n\u001b[1;32m    627\u001b[0m             \u001b[0;32mif\u001b[0m \u001b[0mself\u001b[0m\u001b[0;34m.\u001b[0m\u001b[0m_sampler_iter\u001b[0m \u001b[0;32mis\u001b[0m \u001b[0;32mNone\u001b[0m\u001b[0;34m:\u001b[0m\u001b[0;34m\u001b[0m\u001b[0;34m\u001b[0m\u001b[0m\n\u001b[1;32m    628\u001b[0m                 \u001b[0;31m# TODO(https://github.com/pytorch/pytorch/issues/76750)\u001b[0m\u001b[0;34m\u001b[0m\u001b[0;34m\u001b[0m\u001b[0m\n\u001b[1;32m    629\u001b[0m                 \u001b[0mself\u001b[0m\u001b[0;34m.\u001b[0m\u001b[0m_reset\u001b[0m\u001b[0;34m(\u001b[0m\u001b[0;34m)\u001b[0m  \u001b[0;31m# type: ignore[call-arg]\u001b[0m\u001b[0;34m\u001b[0m\u001b[0;34m\u001b[0m\u001b[0m\n\u001b[0;32m--> 630\u001b[0;31m             \u001b[0mdata\u001b[0m \u001b[0;34m=\u001b[0m \u001b[0mself\u001b[0m\u001b[0;34m.\u001b[0m\u001b[0m_next_data\u001b[0m\u001b[0;34m(\u001b[0m\u001b[0;34m)\u001b[0m\u001b[0;34m\u001b[0m\u001b[0;34m\u001b[0m\u001b[0m\n\u001b[0m\u001b[1;32m    631\u001b[0m             \u001b[0mself\u001b[0m\u001b[0;34m.\u001b[0m\u001b[0m_num_yielded\u001b[0m \u001b[0;34m+=\u001b[0m \u001b[0;36m1\u001b[0m\u001b[0;34m\u001b[0m\u001b[0;34m\u001b[0m\u001b[0m\n\u001b[1;32m    632\u001b[0m             if self._dataset_kind == _DatasetKind.Iterable and \\\n\u001b[1;32m    633\u001b[0m                     self._IterableDataset_len_called is not None and \\\n",
      "\u001b[0;32m~/Scrivania/progetto_naml/CBIS_DDSM_BreastCancer/.venv/lib/python3.12/site-packages/torch/utils/data/dataloader.py\u001b[0m in \u001b[0;36m?\u001b[0;34m(self)\u001b[0m\n\u001b[1;32m    671\u001b[0m     \u001b[0;32mdef\u001b[0m \u001b[0m_next_data\u001b[0m\u001b[0;34m(\u001b[0m\u001b[0mself\u001b[0m\u001b[0;34m)\u001b[0m\u001b[0;34m:\u001b[0m\u001b[0;34m\u001b[0m\u001b[0;34m\u001b[0m\u001b[0m\n\u001b[1;32m    672\u001b[0m         \u001b[0mindex\u001b[0m \u001b[0;34m=\u001b[0m \u001b[0mself\u001b[0m\u001b[0;34m.\u001b[0m\u001b[0m_next_index\u001b[0m\u001b[0;34m(\u001b[0m\u001b[0;34m)\u001b[0m  \u001b[0;31m# may raise StopIteration\u001b[0m\u001b[0;34m\u001b[0m\u001b[0;34m\u001b[0m\u001b[0m\n\u001b[0;32m--> 673\u001b[0;31m         \u001b[0mdata\u001b[0m \u001b[0;34m=\u001b[0m \u001b[0mself\u001b[0m\u001b[0;34m.\u001b[0m\u001b[0m_dataset_fetcher\u001b[0m\u001b[0;34m.\u001b[0m\u001b[0mfetch\u001b[0m\u001b[0;34m(\u001b[0m\u001b[0mindex\u001b[0m\u001b[0;34m)\u001b[0m  \u001b[0;31m# may raise StopIteration\u001b[0m\u001b[0;34m\u001b[0m\u001b[0;34m\u001b[0m\u001b[0m\n\u001b[0m\u001b[1;32m    674\u001b[0m         \u001b[0;32mif\u001b[0m \u001b[0mself\u001b[0m\u001b[0;34m.\u001b[0m\u001b[0m_pin_memory\u001b[0m\u001b[0;34m:\u001b[0m\u001b[0;34m\u001b[0m\u001b[0;34m\u001b[0m\u001b[0m\n\u001b[1;32m    675\u001b[0m             \u001b[0mdata\u001b[0m \u001b[0;34m=\u001b[0m \u001b[0m_utils\u001b[0m\u001b[0;34m.\u001b[0m\u001b[0mpin_memory\u001b[0m\u001b[0;34m.\u001b[0m\u001b[0mpin_memory\u001b[0m\u001b[0;34m(\u001b[0m\u001b[0mdata\u001b[0m\u001b[0;34m,\u001b[0m \u001b[0mself\u001b[0m\u001b[0;34m.\u001b[0m\u001b[0m_pin_memory_device\u001b[0m\u001b[0;34m)\u001b[0m\u001b[0;34m\u001b[0m\u001b[0;34m\u001b[0m\u001b[0m\n\u001b[1;32m    676\u001b[0m         \u001b[0;32mreturn\u001b[0m \u001b[0mdata\u001b[0m\u001b[0;34m\u001b[0m\u001b[0;34m\u001b[0m\u001b[0m\n",
      "\u001b[0;32m~/Scrivania/progetto_naml/CBIS_DDSM_BreastCancer/.venv/lib/python3.12/site-packages/torch/utils/data/_utils/fetch.py\u001b[0m in \u001b[0;36m?\u001b[0;34m(self, possibly_batched_index)\u001b[0m\n\u001b[1;32m     47\u001b[0m     \u001b[0;32mdef\u001b[0m \u001b[0mfetch\u001b[0m\u001b[0;34m(\u001b[0m\u001b[0mself\u001b[0m\u001b[0;34m,\u001b[0m \u001b[0mpossibly_batched_index\u001b[0m\u001b[0;34m)\u001b[0m\u001b[0;34m:\u001b[0m\u001b[0;34m\u001b[0m\u001b[0;34m\u001b[0m\u001b[0m\n\u001b[1;32m     48\u001b[0m         \u001b[0;32mif\u001b[0m \u001b[0mself\u001b[0m\u001b[0;34m.\u001b[0m\u001b[0mauto_collation\u001b[0m\u001b[0;34m:\u001b[0m\u001b[0;34m\u001b[0m\u001b[0;34m\u001b[0m\u001b[0m\n\u001b[1;32m     49\u001b[0m             \u001b[0;32mif\u001b[0m \u001b[0mhasattr\u001b[0m\u001b[0;34m(\u001b[0m\u001b[0mself\u001b[0m\u001b[0;34m.\u001b[0m\u001b[0mdataset\u001b[0m\u001b[0;34m,\u001b[0m \u001b[0;34m\"__getitems__\"\u001b[0m\u001b[0;34m)\u001b[0m \u001b[0;32mand\u001b[0m \u001b[0mself\u001b[0m\u001b[0;34m.\u001b[0m\u001b[0mdataset\u001b[0m\u001b[0;34m.\u001b[0m\u001b[0m__getitems__\u001b[0m\u001b[0;34m:\u001b[0m\u001b[0;34m\u001b[0m\u001b[0;34m\u001b[0m\u001b[0m\n\u001b[0;32m---> 50\u001b[0;31m                 \u001b[0mdata\u001b[0m \u001b[0;34m=\u001b[0m \u001b[0mself\u001b[0m\u001b[0;34m.\u001b[0m\u001b[0mdataset\u001b[0m\u001b[0;34m.\u001b[0m\u001b[0m__getitems__\u001b[0m\u001b[0;34m(\u001b[0m\u001b[0mpossibly_batched_index\u001b[0m\u001b[0;34m)\u001b[0m\u001b[0;34m\u001b[0m\u001b[0;34m\u001b[0m\u001b[0m\n\u001b[0m\u001b[1;32m     51\u001b[0m             \u001b[0;32melse\u001b[0m\u001b[0;34m:\u001b[0m\u001b[0;34m\u001b[0m\u001b[0;34m\u001b[0m\u001b[0m\n\u001b[1;32m     52\u001b[0m                 \u001b[0mdata\u001b[0m \u001b[0;34m=\u001b[0m \u001b[0;34m[\u001b[0m\u001b[0mself\u001b[0m\u001b[0;34m.\u001b[0m\u001b[0mdataset\u001b[0m\u001b[0;34m[\u001b[0m\u001b[0midx\u001b[0m\u001b[0;34m]\u001b[0m \u001b[0;32mfor\u001b[0m \u001b[0midx\u001b[0m \u001b[0;32min\u001b[0m \u001b[0mpossibly_batched_index\u001b[0m\u001b[0;34m]\u001b[0m\u001b[0;34m\u001b[0m\u001b[0;34m\u001b[0m\u001b[0m\n\u001b[1;32m     53\u001b[0m         \u001b[0;32melse\u001b[0m\u001b[0;34m:\u001b[0m\u001b[0;34m\u001b[0m\u001b[0;34m\u001b[0m\u001b[0m\n",
      "\u001b[0;32m~/Scrivania/progetto_naml/CBIS_DDSM_BreastCancer/.venv/lib/python3.12/site-packages/torch/utils/data/dataset.py\u001b[0m in \u001b[0;36m?\u001b[0;34m(self, indices)\u001b[0m\n\u001b[1;32m    416\u001b[0m         \u001b[0;31m# see torch.utils.data._utils.fetch._MapDatasetFetcher\u001b[0m\u001b[0;34m\u001b[0m\u001b[0;34m\u001b[0m\u001b[0m\n\u001b[1;32m    417\u001b[0m         \u001b[0;32mif\u001b[0m \u001b[0mcallable\u001b[0m\u001b[0;34m(\u001b[0m\u001b[0mgetattr\u001b[0m\u001b[0;34m(\u001b[0m\u001b[0mself\u001b[0m\u001b[0;34m.\u001b[0m\u001b[0mdataset\u001b[0m\u001b[0;34m,\u001b[0m \u001b[0;34m\"__getitems__\"\u001b[0m\u001b[0;34m,\u001b[0m \u001b[0;32mNone\u001b[0m\u001b[0;34m)\u001b[0m\u001b[0;34m)\u001b[0m\u001b[0;34m:\u001b[0m\u001b[0;34m\u001b[0m\u001b[0;34m\u001b[0m\u001b[0m\n\u001b[1;32m    418\u001b[0m             \u001b[0;32mreturn\u001b[0m \u001b[0mself\u001b[0m\u001b[0;34m.\u001b[0m\u001b[0mdataset\u001b[0m\u001b[0;34m.\u001b[0m\u001b[0m__getitems__\u001b[0m\u001b[0;34m(\u001b[0m\u001b[0;34m[\u001b[0m\u001b[0mself\u001b[0m\u001b[0;34m.\u001b[0m\u001b[0mindices\u001b[0m\u001b[0;34m[\u001b[0m\u001b[0midx\u001b[0m\u001b[0;34m]\u001b[0m \u001b[0;32mfor\u001b[0m \u001b[0midx\u001b[0m \u001b[0;32min\u001b[0m \u001b[0mindices\u001b[0m\u001b[0;34m]\u001b[0m\u001b[0;34m)\u001b[0m  \u001b[0;31m# type: ignore[attr-defined]\u001b[0m\u001b[0;34m\u001b[0m\u001b[0;34m\u001b[0m\u001b[0m\n\u001b[1;32m    419\u001b[0m         \u001b[0;32melse\u001b[0m\u001b[0;34m:\u001b[0m\u001b[0;34m\u001b[0m\u001b[0;34m\u001b[0m\u001b[0m\n\u001b[0;32m--> 420\u001b[0;31m             \u001b[0;32mreturn\u001b[0m \u001b[0;34m[\u001b[0m\u001b[0mself\u001b[0m\u001b[0;34m.\u001b[0m\u001b[0mdataset\u001b[0m\u001b[0;34m[\u001b[0m\u001b[0mself\u001b[0m\u001b[0;34m.\u001b[0m\u001b[0mindices\u001b[0m\u001b[0;34m[\u001b[0m\u001b[0midx\u001b[0m\u001b[0;34m]\u001b[0m\u001b[0;34m]\u001b[0m \u001b[0;32mfor\u001b[0m \u001b[0midx\u001b[0m \u001b[0;32min\u001b[0m \u001b[0mindices\u001b[0m\u001b[0;34m]\u001b[0m\u001b[0;34m\u001b[0m\u001b[0;34m\u001b[0m\u001b[0m\n\u001b[0m",
      "\u001b[0;32m/tmp/ipykernel_31547/1929193212.py\u001b[0m in \u001b[0;36m?\u001b[0;34m(self, idx)\u001b[0m\n\u001b[1;32m     59\u001b[0m         \u001b[0;32mif\u001b[0m \u001b[0mtorch\u001b[0m\u001b[0;34m.\u001b[0m\u001b[0mis_tensor\u001b[0m\u001b[0;34m(\u001b[0m\u001b[0midx\u001b[0m\u001b[0;34m)\u001b[0m\u001b[0;34m:\u001b[0m\u001b[0;34m\u001b[0m\u001b[0;34m\u001b[0m\u001b[0m\n\u001b[1;32m     60\u001b[0m             \u001b[0midx\u001b[0m \u001b[0;34m=\u001b[0m \u001b[0midx\u001b[0m\u001b[0;34m.\u001b[0m\u001b[0mtolist\u001b[0m\u001b[0;34m(\u001b[0m\u001b[0;34m)\u001b[0m\u001b[0;34m\u001b[0m\u001b[0;34m\u001b[0m\u001b[0m\n\u001b[1;32m     61\u001b[0m \u001b[0;34m\u001b[0m\u001b[0m\n\u001b[1;32m     62\u001b[0m         img_name = os.path.join(self.root_dir,\n\u001b[0;32m---> 63\u001b[0;31m                                 \u001b[0mself\u001b[0m\u001b[0;34m.\u001b[0m\u001b[0mframe\u001b[0m\u001b[0;34m.\u001b[0m\u001b[0miloc\u001b[0m\u001b[0;34m(\u001b[0m\u001b[0midx\u001b[0m\u001b[0;34m)\u001b[0m\u001b[0;34m[\u001b[0m\u001b[0;34m\"image_path\"\u001b[0m\u001b[0;34m]\u001b[0m\u001b[0;34m)\u001b[0m\u001b[0;34m\u001b[0m\u001b[0;34m\u001b[0m\u001b[0m\n\u001b[0m\u001b[1;32m     64\u001b[0m         \u001b[0mimage\u001b[0m \u001b[0;34m=\u001b[0m \u001b[0mplt\u001b[0m\u001b[0;34m.\u001b[0m\u001b[0mimread\u001b[0m\u001b[0;34m(\u001b[0m\u001b[0mimg_name\u001b[0m\u001b[0;34m)\u001b[0m\u001b[0;34m\u001b[0m\u001b[0;34m\u001b[0m\u001b[0m\n\u001b[1;32m     65\u001b[0m         \u001b[0mlabel\u001b[0m \u001b[0;34m=\u001b[0m \u001b[0mself\u001b[0m\u001b[0;34m.\u001b[0m\u001b[0mframe\u001b[0m\u001b[0;34m.\u001b[0m\u001b[0miloc\u001b[0m\u001b[0;34m(\u001b[0m\u001b[0midx\u001b[0m\u001b[0;34m)\u001b[0m\u001b[0;34m[\u001b[0m\u001b[0;34m\"pathology_id\"\u001b[0m\u001b[0;34m]\u001b[0m\u001b[0;34m\u001b[0m\u001b[0;34m\u001b[0m\u001b[0m\n\u001b[1;32m     66\u001b[0m         \u001b[0msample\u001b[0m \u001b[0;34m=\u001b[0m \u001b[0;34m{\u001b[0m\u001b[0;34m'image'\u001b[0m\u001b[0;34m:\u001b[0m \u001b[0mimage\u001b[0m\u001b[0;34m,\u001b[0m \u001b[0;34m'label'\u001b[0m\u001b[0;34m:\u001b[0m \u001b[0mlabel\u001b[0m\u001b[0;34m}\u001b[0m\u001b[0;34m\u001b[0m\u001b[0;34m\u001b[0m\u001b[0m\n",
      "\u001b[0;32m~/Scrivania/progetto_naml/CBIS_DDSM_BreastCancer/.venv/lib/python3.12/site-packages/pandas/core/indexing.py\u001b[0m in \u001b[0;36m?\u001b[0;34m(self, axis)\u001b[0m\n\u001b[1;32m    734\u001b[0m         \u001b[0;31m# we need to return a copy of ourselves\u001b[0m\u001b[0;34m\u001b[0m\u001b[0;34m\u001b[0m\u001b[0m\n\u001b[1;32m    735\u001b[0m         \u001b[0mnew_self\u001b[0m \u001b[0;34m=\u001b[0m \u001b[0mtype\u001b[0m\u001b[0;34m(\u001b[0m\u001b[0mself\u001b[0m\u001b[0;34m)\u001b[0m\u001b[0;34m(\u001b[0m\u001b[0mself\u001b[0m\u001b[0;34m.\u001b[0m\u001b[0mname\u001b[0m\u001b[0;34m,\u001b[0m \u001b[0mself\u001b[0m\u001b[0;34m.\u001b[0m\u001b[0mobj\u001b[0m\u001b[0;34m)\u001b[0m\u001b[0;34m\u001b[0m\u001b[0;34m\u001b[0m\u001b[0m\n\u001b[1;32m    736\u001b[0m \u001b[0;34m\u001b[0m\u001b[0m\n\u001b[1;32m    737\u001b[0m         \u001b[0;32mif\u001b[0m \u001b[0maxis\u001b[0m \u001b[0;32mis\u001b[0m \u001b[0;32mnot\u001b[0m \u001b[0;32mNone\u001b[0m\u001b[0;34m:\u001b[0m\u001b[0;34m\u001b[0m\u001b[0;34m\u001b[0m\u001b[0m\n\u001b[0;32m--> 738\u001b[0;31m             \u001b[0maxis_int_none\u001b[0m \u001b[0;34m=\u001b[0m \u001b[0mself\u001b[0m\u001b[0;34m.\u001b[0m\u001b[0mobj\u001b[0m\u001b[0;34m.\u001b[0m\u001b[0m_get_axis_number\u001b[0m\u001b[0;34m(\u001b[0m\u001b[0maxis\u001b[0m\u001b[0;34m)\u001b[0m\u001b[0;34m\u001b[0m\u001b[0;34m\u001b[0m\u001b[0m\n\u001b[0m\u001b[1;32m    739\u001b[0m         \u001b[0;32melse\u001b[0m\u001b[0;34m:\u001b[0m\u001b[0;34m\u001b[0m\u001b[0;34m\u001b[0m\u001b[0m\n\u001b[1;32m    740\u001b[0m             \u001b[0maxis_int_none\u001b[0m \u001b[0;34m=\u001b[0m \u001b[0maxis\u001b[0m\u001b[0;34m\u001b[0m\u001b[0;34m\u001b[0m\u001b[0m\n\u001b[1;32m    741\u001b[0m         \u001b[0mnew_self\u001b[0m\u001b[0;34m.\u001b[0m\u001b[0maxis\u001b[0m \u001b[0;34m=\u001b[0m \u001b[0maxis_int_none\u001b[0m\u001b[0;34m\u001b[0m\u001b[0;34m\u001b[0m\u001b[0m\n",
      "\u001b[0;32m~/Scrivania/progetto_naml/CBIS_DDSM_BreastCancer/.venv/lib/python3.12/site-packages/pandas/core/generic.py\u001b[0m in \u001b[0;36m?\u001b[0;34m(cls, axis)\u001b[0m\n\u001b[1;32m    574\u001b[0m     \u001b[0;32mdef\u001b[0m \u001b[0m_get_axis_number\u001b[0m\u001b[0;34m(\u001b[0m\u001b[0mcls\u001b[0m\u001b[0;34m,\u001b[0m \u001b[0maxis\u001b[0m\u001b[0;34m:\u001b[0m \u001b[0mAxis\u001b[0m\u001b[0;34m)\u001b[0m \u001b[0;34m->\u001b[0m \u001b[0mAxisInt\u001b[0m\u001b[0;34m:\u001b[0m\u001b[0;34m\u001b[0m\u001b[0;34m\u001b[0m\u001b[0m\n\u001b[1;32m    575\u001b[0m         \u001b[0;32mtry\u001b[0m\u001b[0;34m:\u001b[0m\u001b[0;34m\u001b[0m\u001b[0;34m\u001b[0m\u001b[0m\n\u001b[1;32m    576\u001b[0m             \u001b[0;32mreturn\u001b[0m \u001b[0mcls\u001b[0m\u001b[0;34m.\u001b[0m\u001b[0m_AXIS_TO_AXIS_NUMBER\u001b[0m\u001b[0;34m[\u001b[0m\u001b[0maxis\u001b[0m\u001b[0;34m]\u001b[0m\u001b[0;34m\u001b[0m\u001b[0;34m\u001b[0m\u001b[0m\n\u001b[1;32m    577\u001b[0m         \u001b[0;32mexcept\u001b[0m \u001b[0mKeyError\u001b[0m\u001b[0;34m:\u001b[0m\u001b[0;34m\u001b[0m\u001b[0;34m\u001b[0m\u001b[0m\n\u001b[0;32m--> 578\u001b[0;31m             \u001b[0;32mraise\u001b[0m \u001b[0mValueError\u001b[0m\u001b[0;34m(\u001b[0m\u001b[0;34mf\"\u001b[0m\u001b[0;34mNo axis named \u001b[0m\u001b[0;34m{\u001b[0m\u001b[0maxis\u001b[0m\u001b[0;34m}\u001b[0m\u001b[0;34m for object type \u001b[0m\u001b[0;34m{\u001b[0m\u001b[0mcls\u001b[0m\u001b[0;34m.\u001b[0m\u001b[0m__name__\u001b[0m\u001b[0;34m}\u001b[0m\u001b[0;34m\"\u001b[0m\u001b[0;34m)\u001b[0m\u001b[0;34m\u001b[0m\u001b[0;34m\u001b[0m\u001b[0m\n\u001b[0m",
      "\u001b[0;31mValueError\u001b[0m: No axis named 1242 for object type DataFrame"
     ]
    }
   ],
   "source": [
    "print(\"length of train loader\", loaders[\"train\"])\n",
    "print(train_set.indices)\n",
    "print(dataset.frame.iloc[train_set.indices])\n",
    "for data in loaders[\"train\"]:\n",
    "    img = data[\"image\"]\n",
    "    label = data[\"label\"]\n",
    "\n",
    "    plt.imshow(img[0])\n",
    "    plt.title(label[0])\n",
    "    plt.show()"
   ]
  },
  {
   "cell_type": "code",
   "execution_count": null,
   "metadata": {},
   "outputs": [
    {
     "name": "stdout",
     "output_type": "stream",
     "text": [
      "set()\n"
     ]
    }
   ],
   "source": [
    "missing_indices = set(range(max(dataset.frame.index))) - set(dataset.frame.index)\n",
    "print(missing_indices)"
   ]
  }
 ],
 "metadata": {
  "kernelspec": {
   "display_name": ".venv",
   "language": "python",
   "name": "python3"
  },
  "language_info": {
   "codemirror_mode": {
    "name": "ipython",
    "version": 3
   },
   "file_extension": ".py",
   "mimetype": "text/x-python",
   "name": "python",
   "nbconvert_exporter": "python",
   "pygments_lexer": "ipython3",
   "version": "3.12.3"
  }
 },
 "nbformat": 4,
 "nbformat_minor": 2
}
